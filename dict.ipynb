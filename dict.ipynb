{
 "cells": [
  {
   "cell_type": "code",
   "execution_count": 1,
   "id": "61a8a86a-86c2-477f-ba96-b41301e2218c",
   "metadata": {},
   "outputs": [],
   "source": [
    "#Haider Faraz\n",
    "#FA24-BBD-029"
   ]
  },
  {
   "cell_type": "code",
   "execution_count": 3,
   "id": "80f56515-2992-4037-a839-1e45df7f0cc0",
   "metadata": {},
   "outputs": [
    {
     "name": "stdout",
     "output_type": "stream",
     "text": [
      "{'name': 'Haider', 'age': '19', 'city': 'Lahore', 'hobbies': 'sleeping'}\n"
     ]
    }
   ],
   "source": [
    "#Create a dictionary to store information about a person (name, age, city, hobbies)\n",
    "\n",
    "me = {'name':'Haider','age':'19','city':'Lahore','hobbies':'sleeping'}\n",
    "print(me)"
   ]
  },
  {
   "cell_type": "code",
   "execution_count": 13,
   "id": "78e9288f-ca29-4372-8d8a-f83848b7194d",
   "metadata": {},
   "outputs": [
    {
     "name": "stdout",
     "output_type": "stream",
     "text": [
      "{\"'that\": 1, 'is': 1, 'the': 1, 'way': 1, 'everyday': 1, 'goes': 1, 'every': 1, 'time': 1, 'we': 1, 'have': 1, 'no': 1, \"contol'\": 1, 'frank': 1, 'ocean': 1}\n"
     ]
    }
   ],
   "source": [
    "#Write a program to count the frequency of words in a given text.\n",
    "\n",
    "text = \"'that is the way everyday goes every time we have no contol' frank ocean \"\n",
    "words = text.split()\n",
    "word_count = {}\n",
    "\n",
    "for word in words:\n",
    "    word = word.lower()\n",
    "    if word in word_count:\n",
    "        word_count[word] += 1\n",
    "    else:\n",
    "        word_count[word] = 1\n",
    "print(word_count)"
   ]
  },
  {
   "cell_type": "code",
   "execution_count": 7,
   "id": "7b92f813-e6bf-4def-a1ab-266c4a43b5d2",
   "metadata": {},
   "outputs": [
    {
     "name": "stdout",
     "output_type": "stream",
     "text": [
      "ice cream : 21\n",
      "cream : 1005\n",
      "chocolate icecream : -4015\n"
     ]
    }
   ],
   "source": [
    "#Implement a simple inventory system using dictionaries.\n",
    "\n",
    "inventory = {\n",
    "    'ice cream' : 21,\n",
    "    'cream' : 5,\n",
    "    'chocolate icecream' :6\n",
    "}\n",
    "\n",
    "inventory['cream'] += 1000\n",
    "inventory['chocolate icecream'] -= 4021\n",
    "\n",
    "for items, quantity in inventory.items():\n",
    "    print(f\"{items} : {quantity}\")"
   ]
  },
  {
   "cell_type": "code",
   "execution_count": 9,
   "id": "7eb49f45-7dfb-4c8e-b728-9dd79c9383cb",
   "metadata": {},
   "outputs": [
    {
     "name": "stdout",
     "output_type": "stream",
     "text": [
      "The most popular category is 'polo' with 3 orders.\n"
     ]
    }
   ],
   "source": [
    "#Analyze a dataset of customer orders to find the most popular product category.\n",
    "orders = [\"cargos\", \"cargos\", \"cap\", \"polo\", \"polo\", \"socks\", \"icecream\", \"jacket\",\"polo\"]\n",
    "\n",
    "category_counts = {}\n",
    "for category in orders:\n",
    "    if category in category_counts:\n",
    "        category_counts[category] += 1\n",
    "    else:\n",
    "        category_counts[category] = 1\n",
    "\n",
    "# Find the most popular category\n",
    "most_popular = max(category_counts, key=category_counts.get)\n",
    "print(f\"The most popular category is '{most_popular}' with {category_counts[most_popular]} orders.\")"
   ]
  },
  {
   "cell_type": "code",
   "execution_count": null,
   "id": "c5631a8b-7a54-48de-ab26-419ccb6b78a9",
   "metadata": {},
   "outputs": [],
   "source": [
    "#Create a dictionary to store student grades and calculate the average grade.\n",
    "\n",
    "grades = {\n",
    "    'maths' : 21,\n",
    "    'science' : 21,\n",
    "    'physic' : 21,\n",
    "    'chemistry' : 21,\n",
    "    'arts' : 22   \n",
    "}\n",
    "\n",
    "average_grade = sum(grades.values()) / len(grades)\n",
    "print(f\"Average grade is: {average_grade}\")"
   ]
  },
  {
   "cell_type": "code",
   "execution_count": null,
   "id": "a510f58b-3be5-4d21-9644-7ab01c84e396",
   "metadata": {},
   "outputs": [],
   "source": [
    "#practice question F\n",
    "inventory = {\n",
    "    \"chocolate icecream\": {\"quantity\": 150, \"price\": 5.2},\n",
    "    \"mango icecream\": {\"quantity\": 70, \"price\": 3.0},\n",
    "}\n",
    "\n",
    "def add_product(name, quantity, price):\n",
    "    inventory[name] = {\"quantity\": quantity, \"price\": price}\n",
    "\n",
    "def update_quantity(name, quantity):\n",
    "    if name in inventory:\n",
    "        inventory[name][\"quantity\"] += quantity\n",
    "\n",
    "def total_value():\n",
    "    total = 0\n",
    "    for product in inventory:\n",
    "        total += inventory[product][\"quantity\"] * inventory[product][\"price\"]\n",
    "    return total\n",
    "\n",
    "def low_stock():\n",
    "    for product, info in inventory.items():\n",
    "        if info[\"quantity\"] < 5:\n",
    "            print(f\"Low stock: {product}\")\n",
    "            \n",
    "add_product(\"chocolate icecream\", 3, 2.5) \n",
    "update_quantity(\"mango icecream\", 5)    \n",
    "print(\"Total Inventory Value:\", total_value()) \n",
    "low_stock()  "
   ]
  },
  {
   "cell_type": "code",
   "execution_count": 26,
   "id": "95349cf5-79ed-4a1d-b671-e66e3274e8de",
   "metadata": {},
   "outputs": [
    {
     "name": "stdout",
     "output_type": "stream",
     "text": [
      "Highest grade in math: ('arthur luthur the 3rd', 100)\n",
      "Lowest grade in math: ('pop', 71)\n",
      "\n",
      "Sorted students by average grades:\n",
      "arthur luthur the 3rd: 100.00\n",
      "bob: 61.67\n",
      "pop: 56.00\n"
     ]
    }
   ],
   "source": [
    "# G\n",
    "students = {\n",
    "    \"bob\": {\"math\": 73, \"science\": 14, \"english\": 98},\n",
    "    \"pop\": {\"math\": 71, \"science\": 85, \"english\": 12},\n",
    "    \"arthur luthur the 3rd\": {\"math\": 100, \"science\": 100, \"english\": 100},\n",
    "}\n",
    "\n",
    "\n",
    "def average_grade(grades):\n",
    "    return sum(grades.values()) / len(grades)\n",
    "\n",
    "def subject_grades(subject):\n",
    "    highest = None\n",
    "    lowest = None\n",
    "    for name, grades in students.items():\n",
    "        grade = grades[subject]\n",
    "        if highest is None or grade > highest[1]:\n",
    "            highest = (name, grade)\n",
    "        if lowest is None or grade < lowest[1]:\n",
    "            lowest = (name, grade)\n",
    "    return highest, lowest\n",
    "\n",
    "\n",
    "student_averages = {}\n",
    "for student, grades in students.items():\n",
    "    total_grades = sum(grades.values())\n",
    "    average = total_grades / len(grades)\n",
    "    student_averages[student] = average\n",
    "\n",
    "subject = \"math\"\n",
    "highest = None\n",
    "lowest = None\n",
    "for student, grades in students.items():\n",
    "    grade = grades[subject]\n",
    "    if highest is None or grade > highest[1]:\n",
    "        highest = (student, grade)\n",
    "    if lowest is None or grade < lowest[1]:\n",
    "        lowest = (student, grade)\n",
    "\n",
    "print(f\"Highest grade in {subject}: {highest}\")\n",
    "print(f\"Lowest grade in {subject}: {lowest}\")\n",
    "\n",
    "sorted_students = []\n",
    "for student, avg in student_averages.items():\n",
    "    sorted_students.append((student, avg))\n",
    "\n",
    "for i in range(len(sorted_students)):\n",
    "    for j in range(i + 1, len(sorted_students)):\n",
    "        if sorted_students[i][1] < sorted_students[j][1]:\n",
    "            sorted_students[i], sorted_students[j] = sorted_students[j], sorted_students[i]\n",
    "\n",
    "print(\"\\nSorted students by average grades:\")\n",
    "for student, avg in sorted_students:\n",
    "    print(f\"{student}: {avg:.2f}\")"
   ]
  },
  {
   "cell_type": "code",
   "execution_count": 21,
   "id": "98acb870-cd8e-4cb3-92fa-dbdf24a176ba",
   "metadata": {},
   "outputs": [
    {
     "name": "stdout",
     "output_type": "stream",
     "text": [
      "Insufficient stock for table spoon.\n",
      "Insufficient stock for tea spoon.\n",
      "Cart: {}\n",
      "Cannot remove 2 of table spoon from cart.\n",
      "Cart after removal: {}\n",
      "Total Cost (with discount and tax): 0.0\n"
     ]
    }
   ],
   "source": [
    "#h) Simple E-commerce Store:\n",
    "products = {\n",
    "    1: {\"name\": \"table spoon\", \"price\": 100, \"quantity\": 60},\n",
    "    2: {\"name\": \"tea spoon\", \"price\": 50, \"quantity\": 50},\n",
    "    3: {\"name\": \"fork\", \"price\": 150, \"quantity\": 40}\n",
    "}\n",
    "cart = {}\n",
    "def add_to_cart(product, quantity):\n",
    "    if product in products and products[product][\"quantity\"] >= quantity:\n",
    "        cart[product] = cart.get(product, 0) + quantity\n",
    "        products[product][\"quantity\"] -= quantity\n",
    "    else:\n",
    "        print(f\"Insufficient stock for {product}.\")\n",
    "\n",
    "def remove_from_cart(product, quantity):\n",
    "    if product in cart and cart[product] >= quantity:\n",
    "        cart[product] -= quantity\n",
    "        if cart[product] == 0:\n",
    "            del cart[product]\n",
    "        products[product][\"quantity\"] += quantity\n",
    "    else:\n",
    "        print(f\"Cannot remove {quantity} of {product} from cart.\")\n",
    "\n",
    "def calculate_total(discount=0, tax=0.1):\n",
    "    total = sum(products[product][\"price\"] * qty for product, qty in cart.items())\n",
    "    total -= total * discount  \n",
    "    total += total * tax       \n",
    "    return total\n",
    "\n",
    "\n",
    "add_to_cart(\"table spoon\", 5)\n",
    "add_to_cart(\"tea spoon\", 2)\n",
    "print(\"Cart:\", cart)\n",
    "\n",
    "remove_from_cart(\"table spoon\", 2)\n",
    "print(\"Cart after removal:\", cart)\n",
    "total_cost = calculate_total(discount=0.1, tax=0.1)\n",
    "print(\"Total Cost (with discount and tax):\", total_cost)\n"
   ]
  },
  {
   "cell_type": "code",
   "execution_count": null,
   "id": "a11f153a-0c2f-41e0-84aa-17578ce80826",
   "metadata": {},
   "outputs": [],
   "source": []
  },
  {
   "cell_type": "code",
   "execution_count": null,
   "id": "c5103902-8249-4c32-b8bf-054a49d907ff",
   "metadata": {},
   "outputs": [],
   "source": []
  }
 ],
 "metadata": {
  "kernelspec": {
   "display_name": "Python 3 (ipykernel)",
   "language": "python",
   "name": "python3"
  },
  "language_info": {
   "codemirror_mode": {
    "name": "ipython",
    "version": 3
   },
   "file_extension": ".py",
   "mimetype": "text/x-python",
   "name": "python",
   "nbconvert_exporter": "python",
   "pygments_lexer": "ipython3",
   "version": "3.12.4"
  }
 },
 "nbformat": 4,
 "nbformat_minor": 5
}
